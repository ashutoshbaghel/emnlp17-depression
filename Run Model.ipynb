{
  "nbformat": 4,
  "nbformat_minor": 0,
  "metadata": {
    "colab": {
      "name": "[lstm] MentalHealth.ipynb",
      "provenance": [],
      "collapsed_sections": [
        "Tkv8H17k5QCe",
        "8ErLiTqQtNwD"
      ],
      "machine_shape": "hm",
      "include_colab_link": true
    },
    "kernelspec": {
      "name": "python3",
      "display_name": "Python 3"
    },
    "accelerator": "GPU"
  },
  "cells": [
    {
      "cell_type": "markdown",
      "metadata": {
        "id": "view-in-github",
        "colab_type": "text"
      },
      "source": [
        "<a href=\"https://colab.research.google.com/github/ashutoshbaghel/emnlp17-depression/blob/master/Run%20Model.ipynb\" target=\"_parent\"><img src=\"https://colab.research.google.com/assets/colab-badge.svg\" alt=\"Open In Colab\"/></a>"
      ]
    },
    {
      "cell_type": "markdown",
      "metadata": {
        "id": "Tkv8H17k5QCe",
        "colab_type": "text"
      },
      "source": [
        "### Get more RAM, we'll need atleast 25GB :"
      ]
    },
    {
      "cell_type": "code",
      "metadata": {
        "id": "ouvg0CW0pkxM",
        "colab_type": "code",
        "colab": {}
      },
      "source": [
        "\n",
        "# a = []\n",
        "# while(1):\n",
        "#     a.append('1')"
      ],
      "execution_count": 0,
      "outputs": []
    },
    {
      "cell_type": "markdown",
      "metadata": {
        "id": "7Cdzj8FPdHHx",
        "colab_type": "text"
      },
      "source": [
        "## Libraries degradation\n"
      ]
    },
    {
      "cell_type": "code",
      "metadata": {
        "id": "r-VphzArTqVk",
        "colab_type": "code",
        "outputId": "e6f9eec1-599a-4860-9ee2-848db0db70d0",
        "colab": {
          "base_uri": "https://localhost:8080/",
          "height": 34
        }
      },
      "source": [
        "%tensorflow_version 1.x"
      ],
      "execution_count": 1,
      "outputs": [
        {
          "output_type": "stream",
          "text": [
            "TensorFlow 1.x selected.\n"
          ],
          "name": "stdout"
        }
      ]
    },
    {
      "cell_type": "code",
      "metadata": {
        "id": "zeAEmnf7P92M",
        "colab_type": "code",
        "outputId": "6aeb4693-8097-4d8c-f6ce-2ca11fadb56b",
        "colab": {
          "base_uri": "https://localhost:8080/",
          "height": 564
        }
      },
      "source": [
        "import tensorflow as tf\n",
        "tf.__version__\n",
        "\n",
        "from tensorflow.python.client import device_lib\n",
        "print(device_lib.list_local_devices())"
      ],
      "execution_count": 2,
      "outputs": [
        {
          "output_type": "stream",
          "text": [
            "[name: \"/device:CPU:0\"\n",
            "device_type: \"CPU\"\n",
            "memory_limit: 268435456\n",
            "locality {\n",
            "}\n",
            "incarnation: 6034648825530584088\n",
            ", name: \"/device:XLA_CPU:0\"\n",
            "device_type: \"XLA_CPU\"\n",
            "memory_limit: 17179869184\n",
            "locality {\n",
            "}\n",
            "incarnation: 4285779334981575532\n",
            "physical_device_desc: \"device: XLA_CPU device\"\n",
            ", name: \"/device:XLA_GPU:0\"\n",
            "device_type: \"XLA_GPU\"\n",
            "memory_limit: 17179869184\n",
            "locality {\n",
            "}\n",
            "incarnation: 12981958438926465886\n",
            "physical_device_desc: \"device: XLA_GPU device\"\n",
            ", name: \"/device:GPU:0\"\n",
            "device_type: \"GPU\"\n",
            "memory_limit: 11330115994\n",
            "locality {\n",
            "  bus_id: 1\n",
            "  links {\n",
            "  }\n",
            "}\n",
            "incarnation: 14680986540898006017\n",
            "physical_device_desc: \"device: 0, name: Tesla K80, pci bus id: 0000:00:04.0, compute capability: 3.7\"\n",
            "]\n"
          ],
          "name": "stdout"
        }
      ]
    },
    {
      "cell_type": "code",
      "metadata": {
        "id": "tPJzpZ05_dcn",
        "colab_type": "code",
        "outputId": "a515a811-2f52-48a0-d2a5-b875568e458b",
        "colab": {
          "base_uri": "https://localhost:8080/",
          "height": 394
        }
      },
      "source": [
        "!pip install keras==1.2.2"
      ],
      "execution_count": 3,
      "outputs": [
        {
          "output_type": "stream",
          "text": [
            "Collecting keras==1.2.2\n",
            "\u001b[?25l  Downloading https://files.pythonhosted.org/packages/75/3e/9926ce5c678b7a7978724a2ecf24857d89a415d152b8d3443e6d45c228b2/Keras-1.2.2.tar.gz (175kB)\n",
            "\r\u001b[K     |█▉                              | 10kB 17.4MB/s eta 0:00:01\r\u001b[K     |███▊                            | 20kB 1.6MB/s eta 0:00:01\r\u001b[K     |█████▋                          | 30kB 1.8MB/s eta 0:00:01\r\u001b[K     |███████▌                        | 40kB 2.1MB/s eta 0:00:01\r\u001b[K     |█████████▍                      | 51kB 2.0MB/s eta 0:00:01\r\u001b[K     |███████████▏                    | 61kB 2.2MB/s eta 0:00:01\r\u001b[K     |█████████████                   | 71kB 2.4MB/s eta 0:00:01\r\u001b[K     |███████████████                 | 81kB 2.6MB/s eta 0:00:01\r\u001b[K     |████████████████▉               | 92kB 2.5MB/s eta 0:00:01\r\u001b[K     |██████████████████▊             | 102kB 2.7MB/s eta 0:00:01\r\u001b[K     |████████████████████▌           | 112kB 2.7MB/s eta 0:00:01\r\u001b[K     |██████████████████████▍         | 122kB 2.7MB/s eta 0:00:01\r\u001b[K     |████████████████████████▎       | 133kB 2.7MB/s eta 0:00:01\r\u001b[K     |██████████████████████████▏     | 143kB 2.7MB/s eta 0:00:01\r\u001b[K     |████████████████████████████    | 153kB 2.7MB/s eta 0:00:01\r\u001b[K     |█████████████████████████████▉  | 163kB 2.7MB/s eta 0:00:01\r\u001b[K     |███████████████████████████████▊| 174kB 2.7MB/s eta 0:00:01\r\u001b[K     |████████████████████████████████| 184kB 2.7MB/s \n",
            "\u001b[?25hRequirement already satisfied: theano in /usr/local/lib/python3.6/dist-packages (from keras==1.2.2) (1.0.4)\n",
            "Requirement already satisfied: pyyaml in /usr/local/lib/python3.6/dist-packages (from keras==1.2.2) (3.13)\n",
            "Requirement already satisfied: six in /usr/local/lib/python3.6/dist-packages (from keras==1.2.2) (1.12.0)\n",
            "Requirement already satisfied: scipy>=0.14 in /usr/local/lib/python3.6/dist-packages (from theano->keras==1.2.2) (1.4.1)\n",
            "Requirement already satisfied: numpy>=1.9.1 in /usr/local/lib/python3.6/dist-packages (from theano->keras==1.2.2) (1.18.4)\n",
            "Building wheels for collected packages: keras\n",
            "  Building wheel for keras (setup.py) ... \u001b[?25l\u001b[?25hdone\n",
            "  Created wheel for keras: filename=Keras-1.2.2-cp36-none-any.whl size=209603 sha256=b7674590a2dc9db6b6e292fa0bc69ad2882050f7d444d1b0b578026ac50f3677\n",
            "  Stored in directory: /root/.cache/pip/wheels/55/07/cf/b32db0a8d243b2fd6759d5d7cb650aa20670b2b740209cbf7e\n",
            "Successfully built keras\n",
            "\u001b[31mERROR: textgenrnn 1.4.1 has requirement keras>=2.1.5, but you'll have keras 1.2.2 which is incompatible.\u001b[0m\n",
            "\u001b[31mERROR: kapre 0.1.3.1 has requirement keras>=2.0.0, but you'll have keras 1.2.2 which is incompatible.\u001b[0m\n",
            "\u001b[31mERROR: fancyimpute 0.4.3 has requirement keras>=2.0.0, but you'll have keras 1.2.2 which is incompatible.\u001b[0m\n",
            "Installing collected packages: keras\n",
            "  Found existing installation: Keras 2.3.1\n",
            "    Uninstalling Keras-2.3.1:\n",
            "      Successfully uninstalled Keras-2.3.1\n",
            "Successfully installed keras-1.2.2\n"
          ],
          "name": "stdout"
        }
      ]
    },
    {
      "cell_type": "code",
      "metadata": {
        "id": "uMyyrI0IGSY4",
        "colab_type": "code",
        "outputId": "d2f4147a-cab9-40db-90ad-9fc10c95a22a",
        "colab": {
          "base_uri": "https://localhost:8080/",
          "height": 666
        }
      },
      "source": [
        "!pip install sacred"
      ],
      "execution_count": 4,
      "outputs": [
        {
          "output_type": "stream",
          "text": [
            "Collecting sacred\n",
            "\u001b[?25l  Downloading https://files.pythonhosted.org/packages/f9/7f/c5679977f1eceac432c59cc92bd1ddb7272c282c3db8eb846d0e1c03b6a0/sacred-0.8.1.tar.gz (90kB)\n",
            "\u001b[K     |████████████████████████████████| 92kB 2.4MB/s \n",
            "\u001b[?25hRequirement already satisfied: docopt<1.0,>=0.3 in /usr/local/lib/python3.6/dist-packages (from sacred) (0.6.2)\n",
            "Collecting jsonpickle<2.0,>=1.2\n",
            "  Downloading https://files.pythonhosted.org/packages/af/ca/4fee219cc4113a5635e348ad951cf8a2e47fed2e3342312493f5b73d0007/jsonpickle-1.4.1-py2.py3-none-any.whl\n",
            "Collecting munch<3.0,>=2.0.2\n",
            "  Downloading https://files.pythonhosted.org/packages/cc/ab/85d8da5c9a45e072301beb37ad7f833cd344e04c817d97e0cc75681d248f/munch-2.5.0-py2.py3-none-any.whl\n",
            "Requirement already satisfied: wrapt<2.0,>=1.0 in /usr/local/lib/python3.6/dist-packages (from sacred) (1.12.1)\n",
            "Collecting py-cpuinfo>=4.0\n",
            "\u001b[?25l  Downloading https://files.pythonhosted.org/packages/42/60/63f28a5401da733043abe7053e7d9591491b4784c4f87c339bf51215aa0a/py-cpuinfo-5.0.0.tar.gz (82kB)\n",
            "\u001b[K     |████████████████████████████████| 92kB 6.4MB/s \n",
            "\u001b[?25hCollecting colorama>=0.4\n",
            "  Downloading https://files.pythonhosted.org/packages/c9/dc/45cdef1b4d119eb96316b3117e6d5708a08029992b2fee2c143c7a0a5cc5/colorama-0.4.3-py2.py3-none-any.whl\n",
            "Requirement already satisfied: packaging>=18.0 in /usr/local/lib/python3.6/dist-packages (from sacred) (20.3)\n",
            "Collecting GitPython\n",
            "\u001b[?25l  Downloading https://files.pythonhosted.org/packages/44/33/917e6fde1cad13daa7053f39b7c8af3be287314f75f1b1ea8d3fe37a8571/GitPython-3.1.2-py3-none-any.whl (451kB)\n",
            "\u001b[K     |████████████████████████████████| 460kB 8.3MB/s \n",
            "\u001b[?25hRequirement already satisfied: importlib-metadata in /usr/local/lib/python3.6/dist-packages (from jsonpickle<2.0,>=1.2->sacred) (1.6.0)\n",
            "Requirement already satisfied: six in /usr/local/lib/python3.6/dist-packages (from munch<3.0,>=2.0.2->sacred) (1.12.0)\n",
            "Requirement already satisfied: pyparsing>=2.0.2 in /usr/local/lib/python3.6/dist-packages (from packaging>=18.0->sacred) (2.4.7)\n",
            "Collecting gitdb<5,>=4.0.1\n",
            "\u001b[?25l  Downloading https://files.pythonhosted.org/packages/48/11/d1800bca0a3bae820b84b7d813ad1eff15a48a64caea9c823fc8c1b119e8/gitdb-4.0.5-py3-none-any.whl (63kB)\n",
            "\u001b[K     |████████████████████████████████| 71kB 7.5MB/s \n",
            "\u001b[?25hRequirement already satisfied: zipp>=0.5 in /usr/local/lib/python3.6/dist-packages (from importlib-metadata->jsonpickle<2.0,>=1.2->sacred) (3.1.0)\n",
            "Collecting smmap<4,>=3.0.1\n",
            "  Downloading https://files.pythonhosted.org/packages/b0/9a/4d409a6234eb940e6a78dfdfc66156e7522262f5f2fecca07dc55915952d/smmap-3.0.4-py2.py3-none-any.whl\n",
            "Building wheels for collected packages: sacred, py-cpuinfo\n",
            "  Building wheel for sacred (setup.py) ... \u001b[?25l\u001b[?25hdone\n",
            "  Created wheel for sacred: filename=sacred-0.8.1-py2.py3-none-any.whl size=105018 sha256=263c2f28cc925808101442eddbb3bc4a97bc1a1b58579a386bca360af1a29667\n",
            "  Stored in directory: /root/.cache/pip/wheels/11/a8/f6/1d5f073245cb0a221962713adf81e56c1c9608083f85ecac9b\n",
            "  Building wheel for py-cpuinfo (setup.py) ... \u001b[?25l\u001b[?25hdone\n",
            "  Created wheel for py-cpuinfo: filename=py_cpuinfo-5.0.0-cp36-none-any.whl size=18684 sha256=cc0a8681a0f54c3b7d579c2a50e23aff21ad58547184e25d473374e0a425b384\n",
            "  Stored in directory: /root/.cache/pip/wheels/01/7e/a9/b982d0fea22b7e4ae5619de949570cde5ad55420cec16e86a5\n",
            "Successfully built sacred py-cpuinfo\n",
            "Installing collected packages: jsonpickle, munch, py-cpuinfo, colorama, smmap, gitdb, GitPython, sacred\n",
            "Successfully installed GitPython-3.1.2 colorama-0.4.3 gitdb-4.0.5 jsonpickle-1.4.1 munch-2.5.0 py-cpuinfo-5.0.0 sacred-0.8.1 smmap-3.0.4\n"
          ],
          "name": "stdout"
        }
      ]
    },
    {
      "cell_type": "code",
      "metadata": {
        "id": "S_UHZDxs_vcK",
        "colab_type": "code",
        "outputId": "dcb4e692-37a7-4b8e-ecc4-1ee074615d50",
        "colab": {
          "base_uri": "https://localhost:8080/",
          "height": 51
        }
      },
      "source": [
        "import keras\n",
        "keras.__version__"
      ],
      "execution_count": 5,
      "outputs": [
        {
          "output_type": "stream",
          "text": [
            "Using TensorFlow backend.\n"
          ],
          "name": "stderr"
        },
        {
          "output_type": "execute_result",
          "data": {
            "text/plain": [
              "'1.2.2'"
            ]
          },
          "metadata": {
            "tags": []
          },
          "execution_count": 5
        }
      ]
    },
    {
      "cell_type": "markdown",
      "metadata": {
        "id": "GEftbnjhdPJb",
        "colab_type": "text"
      },
      "source": [
        "## Get data from Drive, code from Github"
      ]
    },
    {
      "cell_type": "code",
      "metadata": {
        "id": "IDfup6oaTaco",
        "colab_type": "code",
        "outputId": "f9b155a3-7e15-4cec-f3bc-8161fe0e8d82",
        "colab": {
          "base_uri": "https://localhost:8080/",
          "height": 122
        }
      },
      "source": [
        "from google.colab import drive\n",
        "drive.mount('/gdrive')"
      ],
      "execution_count": 6,
      "outputs": [
        {
          "output_type": "stream",
          "text": [
            "Go to this URL in a browser: https://accounts.google.com/o/oauth2/auth?client_id=947318989803-6bn6qk8qdgf4n4g3pfee6491hc0brc4i.apps.googleusercontent.com&redirect_uri=urn%3aietf%3awg%3aoauth%3a2.0%3aoob&response_type=code&scope=email%20https%3a%2f%2fwww.googleapis.com%2fauth%2fdocs.test%20https%3a%2f%2fwww.googleapis.com%2fauth%2fdrive%20https%3a%2f%2fwww.googleapis.com%2fauth%2fdrive.photos.readonly%20https%3a%2f%2fwww.googleapis.com%2fauth%2fpeopleapi.readonly\n",
            "\n",
            "Enter your authorization code:\n",
            "··········\n",
            "Mounted at /gdrive\n"
          ],
          "name": "stdout"
        }
      ]
    },
    {
      "cell_type": "markdown",
      "metadata": {
        "id": "8ErLiTqQtNwD",
        "colab_type": "text"
      },
      "source": [
        "### Make smaller splits (Dont run again)"
      ]
    },
    {
      "cell_type": "code",
      "metadata": {
        "id": "WvZO-eIRyarq",
        "colab_type": "code",
        "colab": {}
      },
      "source": [
        "# ! gunzip rsdd_posts/training.gz\n",
        "# ! mkdir train_split_4000 && split -l4000 -d rsdd_posts/training train_split_4000/training_\n",
        "# ! cp -r train_split_4000/ '/gdrive/My Drive/MentalHealthData/'"
      ],
      "execution_count": 0,
      "outputs": []
    },
    {
      "cell_type": "code",
      "metadata": {
        "id": "KQz9SKWZvEUP",
        "colab_type": "code",
        "colab": {}
      },
      "source": [
        "# ## Splits for validation set\n",
        "# ! gunzip rsdd_posts/validation.gz\n",
        "# ! mkdir valid_split_4000\n",
        "# ! split -l4000 -d rsdd_posts/validation valid_split_4000/validation_\n",
        "# ! cp -r valid_split_4000/* '/gdrive/My Drive/MentalHealthData/valid_split_4000/'"
      ],
      "execution_count": 0,
      "outputs": []
    },
    {
      "cell_type": "markdown",
      "metadata": {
        "id": "-X7Ul7t13YRb",
        "colab_type": "text"
      },
      "source": [
        "### Copy data to workspace"
      ]
    },
    {
      "cell_type": "code",
      "metadata": {
        "id": "zDceBOTvTkuz",
        "colab_type": "code",
        "colab": {}
      },
      "source": [
        "# !ls -lh '/gdrive/My Drive/MentalHealthData'"
      ],
      "execution_count": 0,
      "outputs": []
    },
    {
      "cell_type": "code",
      "metadata": {
        "id": "Jhhlp31VUvRq",
        "colab_type": "code",
        "colab": {}
      },
      "source": [
        "# Unzip files in google drive. Need to do only once. \n",
        "# !mkdir '/gdrive/My Drive/MentalHealthData/data'\n",
        "# !unzip -P LFimmushs6hmrFKXdZQ7cq0EGCzh2FSO -d '/gdrive/My Drive/MentalHealthData/data' '/gdrive/My Drive/MentalHealthData/RSDD.zip' "
      ],
      "execution_count": 0,
      "outputs": []
    },
    {
      "cell_type": "code",
      "metadata": {
        "id": "aKUeUZ9DRZ_L",
        "colab_type": "code",
        "colab": {}
      },
      "source": [
        "# Copy train/valid/test from drive in working dir:\n",
        "! mkdir -p rsdd_posts\n",
        "! cp -r '/gdrive/My Drive/MentalHealthData/data/RSDD/aug_training_40k.gz' rsdd_posts/ ### YZ augmented training data\n",
        "! mv rsdd_posts/aug_training_40k.gz rsdd_posts/training.gz ### YZ augmented training data"
      ],
      "execution_count": 0,
      "outputs": []
    },
    {
      "cell_type": "code",
      "metadata": {
        "id": "fjEz25aNXod6",
        "colab_type": "code",
        "colab": {}
      },
      "source": [
        "! cp -r '/gdrive/My Drive/MentalHealthData/data/RSDD/testing.gz' rsdd_posts/\n"
      ],
      "execution_count": 0,
      "outputs": []
    },
    {
      "cell_type": "code",
      "metadata": {
        "id": "ob38jIH2oLq0",
        "colab_type": "code",
        "colab": {}
      },
      "source": [
        "# # Use full validataion:\n",
        "# ! cp -r '/gdrive/My Drive/MentalHealthData/data/RSDD/validation.gz' rsdd_posts/\n",
        "##-------------------------------------##\n",
        "## OR Use a small split:\n",
        "# Copy a split validation file and zip it\n",
        "\n",
        "! cp -r '/gdrive/My Drive/MentalHealthData/valid_split_10000/validation_00' rsdd_posts/\n",
        "! gzip rsdd_posts/validation_00 \n",
        "\n",
        "! mv rsdd_posts/validation_00.gz rsdd_posts/validation.gz "
      ],
      "execution_count": 0,
      "outputs": []
    },
    {
      "cell_type": "markdown",
      "metadata": {
        "id": "4Rb-fmoV7ItC",
        "colab_type": "text"
      },
      "source": [
        "### Get tokenizer and cache from baseline run"
      ]
    },
    {
      "cell_type": "code",
      "metadata": {
        "id": "oz-cMOTW7GpD",
        "colab_type": "code",
        "colab": {}
      },
      "source": [
        "! cp -r '/gdrive/My Drive/MentalHealthData/runs/baseline/tok_tf3_df2.p' ."
      ],
      "execution_count": 0,
      "outputs": []
    },
    {
      "cell_type": "code",
      "metadata": {
        "id": "EQ3Ql15Q8QDN",
        "colab_type": "code",
        "colab": {}
      },
      "source": [
        "#! cp -r '/gdrive/My Drive/MentalHealthData/runs/baseline/data/' ."
      ],
      "execution_count": 0,
      "outputs": []
    },
    {
      "cell_type": "code",
      "metadata": {
        "id": "L46asNOXze_d",
        "colab_type": "code",
        "colab": {}
      },
      "source": [
        "! mkdir -p data && mkdir -p data/redcache"
      ],
      "execution_count": 0,
      "outputs": []
    },
    {
      "cell_type": "markdown",
      "metadata": {
        "id": "b4k8c2HOn2f5",
        "colab_type": "text"
      },
      "source": [
        "## Get pretrained wordvecs and rename that file"
      ]
    },
    {
      "cell_type": "code",
      "metadata": {
        "id": "QceWou0bn0nC",
        "colab_type": "code",
        "colab": {}
      },
      "source": [
        "fn = \"glove.6B.50d.txt\"\n",
        "! cp -r '/gdrive/My Drive/MentalHealthData/pretrained_vectors/{fn}' data/w2v_50_sg_export.txt"
      ],
      "execution_count": 0,
      "outputs": []
    },
    {
      "cell_type": "markdown",
      "metadata": {
        "id": "LPORR2bidYbw",
        "colab_type": "text"
      },
      "source": [
        "## RUNS:"
      ]
    },
    {
      "cell_type": "code",
      "metadata": {
        "id": "jafdTHcyFuMr",
        "colab_type": "code",
        "outputId": "b3f6b907-2c89-4922-dabf-f1b33e331010",
        "colab": {
          "base_uri": "https://localhost:8080/",
          "height": 190
        }
      },
      "source": [
        "branch = 'dense-dropout-lstm' ## All options: master, maxpooling, multifilter, lstm\n",
        "! rm -rf emnlp17-depression/\n",
        "! git clone https://github.com/ashutoshbaghel/emnlp17-depression.git && cd emnlp17-depression && git checkout \"{branch}\" && mv model/* /content/"
      ],
      "execution_count": 14,
      "outputs": [
        {
          "output_type": "stream",
          "text": [
            "Cloning into 'emnlp17-depression'...\n",
            "remote: Enumerating objects: 70, done.\u001b[K\n",
            "remote: Counting objects: 100% (70/70), done.\u001b[K\n",
            "remote: Compressing objects: 100% (53/53), done.\u001b[K\n",
            "remote: Total 136 (delta 30), reused 55 (delta 17), pack-reused 66\u001b[K\n",
            "Receiving objects: 100% (136/136), 165.88 KiB | 312.00 KiB/s, done.\n",
            "Resolving deltas: 100% (44/44), done.\n",
            "Branch 'dense-dropout-lstm' set up to track remote branch 'dense-dropout-lstm' from 'origin'.\n",
            "Switched to a new branch 'dense-dropout-lstm'\n"
          ],
          "name": "stdout"
        }
      ]
    },
    {
      "cell_type": "code",
      "metadata": {
        "id": "2p5xG5fuUAbI",
        "colab_type": "code",
        "colab": {}
      },
      "source": [
        "## Copy the weights if you dont want to train again:\n",
        "# ! cp -r '/gdrive/My Drive/MentalHealthData/runs/{branch}/tmp/' ./"
      ],
      "execution_count": 0,
      "outputs": []
    },
    {
      "cell_type": "code",
      "metadata": {
        "id": "EnMHpvyaGIoq",
        "colab_type": "code",
        "outputId": "67cd353a-e7fe-4588-8716-856eedf9580b",
        "colab": {
          "base_uri": "https://localhost:8080/",
          "height": 1000
        }
      },
      "source": [
        "# Don't run training again for now. Just use the old best weights\n",
        "! python reddit.py"
      ],
      "execution_count": 0,
      "outputs": [
        {
          "output_type": "stream",
          "text": [
            "Using TensorFlow backend.\n",
            "WARNING - train - No observers have been added to this run\n",
            "INFO - train - Running command 'main'\n",
            "INFO - train - Started\n",
            "WARNING:tensorflow:From reddit.py:46: The name tf.reset_default_graph is deprecated. Please use tf.compat.v1.reset_default_graph instead.\n",
            "\n",
            "WARNING - tensorflow - From reddit.py:46: The name tf.reset_default_graph is deprecated. Please use tf.compat.v1.reset_default_graph instead.\n",
            "\n",
            "WARNING:tensorflow:From reddit.py:47: The name tf.get_default_graph is deprecated. Please use tf.compat.v1.get_default_graph instead.\n",
            "\n",
            "WARNING - tensorflow - From reddit.py:47: The name tf.get_default_graph is deprecated. Please use tf.compat.v1.get_default_graph instead.\n",
            "\n",
            "WARNING:tensorflow:From reddit.py:50: The name tf.set_random_seed is deprecated. Please use tf.compat.v1.set_random_seed instead.\n",
            "\n",
            "WARNING - tensorflow - From reddit.py:50: The name tf.set_random_seed is deprecated. Please use tf.compat.v1.set_random_seed instead.\n",
            "\n",
            "WARNING:tensorflow:From reddit.py:51: The name tf.Session is deprecated. Please use tf.compat.v1.Session instead.\n",
            "\n",
            "WARNING - tensorflow - From reddit.py:51: The name tf.Session is deprecated. Please use tf.compat.v1.Session instead.\n",
            "\n",
            "2020-05-08 22:09:32.512498: I tensorflow/stream_executor/platform/default/dso_loader.cc:44] Successfully opened dynamic library libcuda.so.1\n",
            "2020-05-08 22:09:32.515906: I tensorflow/stream_executor/cuda/cuda_gpu_executor.cc:983] successful NUMA node read from SysFS had negative value (-1), but there must be at least one NUMA node, so returning NUMA node zero\n",
            "2020-05-08 22:09:32.516872: I tensorflow/core/common_runtime/gpu/gpu_device.cc:1639] Found device 0 with properties: \n",
            "name: Tesla K80 major: 3 minor: 7 memoryClockRate(GHz): 0.8235\n",
            "pciBusID: 0000:00:04.0\n",
            "2020-05-08 22:09:32.517228: I tensorflow/stream_executor/platform/default/dso_loader.cc:44] Successfully opened dynamic library libcudart.so.10.1\n",
            "2020-05-08 22:09:32.528521: I tensorflow/stream_executor/platform/default/dso_loader.cc:44] Successfully opened dynamic library libcublas.so.10\n",
            "2020-05-08 22:09:32.544004: I tensorflow/stream_executor/platform/default/dso_loader.cc:44] Successfully opened dynamic library libcufft.so.10\n",
            "2020-05-08 22:09:32.550363: I tensorflow/stream_executor/platform/default/dso_loader.cc:44] Successfully opened dynamic library libcurand.so.10\n",
            "2020-05-08 22:09:32.566249: I tensorflow/stream_executor/platform/default/dso_loader.cc:44] Successfully opened dynamic library libcusolver.so.10\n",
            "2020-05-08 22:09:32.570077: I tensorflow/stream_executor/platform/default/dso_loader.cc:44] Successfully opened dynamic library libcusparse.so.10\n",
            "2020-05-08 22:09:32.596158: I tensorflow/stream_executor/platform/default/dso_loader.cc:44] Successfully opened dynamic library libcudnn.so.7\n",
            "2020-05-08 22:09:32.596369: I tensorflow/stream_executor/cuda/cuda_gpu_executor.cc:983] successful NUMA node read from SysFS had negative value (-1), but there must be at least one NUMA node, so returning NUMA node zero\n",
            "2020-05-08 22:09:32.597182: I tensorflow/stream_executor/cuda/cuda_gpu_executor.cc:983] successful NUMA node read from SysFS had negative value (-1), but there must be at least one NUMA node, so returning NUMA node zero\n",
            "2020-05-08 22:09:32.597852: I tensorflow/core/common_runtime/gpu/gpu_device.cc:1767] Adding visible gpu devices: 0\n",
            "2020-05-08 22:09:32.618189: I tensorflow/core/platform/profile_utils/cpu_utils.cc:94] CPU Frequency: 2300000000 Hz\n",
            "2020-05-08 22:09:32.618553: I tensorflow/compiler/xla/service/service.cc:168] XLA service 0x1b20d80 initialized for platform Host (this does not guarantee that XLA will be used). Devices:\n",
            "2020-05-08 22:09:32.618591: I tensorflow/compiler/xla/service/service.cc:176]   StreamExecutor device (0): Host, Default Version\n",
            "2020-05-08 22:09:32.671577: I tensorflow/stream_executor/cuda/cuda_gpu_executor.cc:983] successful NUMA node read from SysFS had negative value (-1), but there must be at least one NUMA node, so returning NUMA node zero\n",
            "2020-05-08 22:09:32.672433: I tensorflow/compiler/xla/service/service.cc:168] XLA service 0x1b20f40 initialized for platform CUDA (this does not guarantee that XLA will be used). Devices:\n",
            "2020-05-08 22:09:32.672473: I tensorflow/compiler/xla/service/service.cc:176]   StreamExecutor device (0): Tesla K80, Compute Capability 3.7\n",
            "2020-05-08 22:09:32.672709: I tensorflow/stream_executor/cuda/cuda_gpu_executor.cc:983] successful NUMA node read from SysFS had negative value (-1), but there must be at least one NUMA node, so returning NUMA node zero\n",
            "2020-05-08 22:09:32.673436: I tensorflow/core/common_runtime/gpu/gpu_device.cc:1639] Found device 0 with properties: \n",
            "name: Tesla K80 major: 3 minor: 7 memoryClockRate(GHz): 0.8235\n",
            "pciBusID: 0000:00:04.0\n",
            "2020-05-08 22:09:32.673522: I tensorflow/stream_executor/platform/default/dso_loader.cc:44] Successfully opened dynamic library libcudart.so.10.1\n",
            "2020-05-08 22:09:32.673572: I tensorflow/stream_executor/platform/default/dso_loader.cc:44] Successfully opened dynamic library libcublas.so.10\n",
            "2020-05-08 22:09:32.673622: I tensorflow/stream_executor/platform/default/dso_loader.cc:44] Successfully opened dynamic library libcufft.so.10\n",
            "2020-05-08 22:09:32.673664: I tensorflow/stream_executor/platform/default/dso_loader.cc:44] Successfully opened dynamic library libcurand.so.10\n",
            "2020-05-08 22:09:32.673707: I tensorflow/stream_executor/platform/default/dso_loader.cc:44] Successfully opened dynamic library libcusolver.so.10\n",
            "2020-05-08 22:09:32.673748: I tensorflow/stream_executor/platform/default/dso_loader.cc:44] Successfully opened dynamic library libcusparse.so.10\n",
            "2020-05-08 22:09:32.673789: I tensorflow/stream_executor/platform/default/dso_loader.cc:44] Successfully opened dynamic library libcudnn.so.7\n",
            "2020-05-08 22:09:32.673924: I tensorflow/stream_executor/cuda/cuda_gpu_executor.cc:983] successful NUMA node read from SysFS had negative value (-1), but there must be at least one NUMA node, so returning NUMA node zero\n",
            "2020-05-08 22:09:32.674700: I tensorflow/stream_executor/cuda/cuda_gpu_executor.cc:983] successful NUMA node read from SysFS had negative value (-1), but there must be at least one NUMA node, so returning NUMA node zero\n",
            "2020-05-08 22:09:32.675383: I tensorflow/core/common_runtime/gpu/gpu_device.cc:1767] Adding visible gpu devices: 0\n",
            "2020-05-08 22:09:32.675455: I tensorflow/stream_executor/platform/default/dso_loader.cc:44] Successfully opened dynamic library libcudart.so.10.1\n",
            "2020-05-08 22:09:32.677006: I tensorflow/core/common_runtime/gpu/gpu_device.cc:1180] Device interconnect StreamExecutor with strength 1 edge matrix:\n",
            "2020-05-08 22:09:32.677052: I tensorflow/core/common_runtime/gpu/gpu_device.cc:1186]      0 \n",
            "2020-05-08 22:09:32.677069: I tensorflow/core/common_runtime/gpu/gpu_device.cc:1199] 0:   N \n",
            "2020-05-08 22:09:32.677251: I tensorflow/stream_executor/cuda/cuda_gpu_executor.cc:983] successful NUMA node read from SysFS had negative value (-1), but there must be at least one NUMA node, so returning NUMA node zero\n",
            "2020-05-08 22:09:32.678035: I tensorflow/stream_executor/cuda/cuda_gpu_executor.cc:983] successful NUMA node read from SysFS had negative value (-1), but there must be at least one NUMA node, so returning NUMA node zero\n",
            "2020-05-08 22:09:32.678745: W tensorflow/core/common_runtime/gpu/gpu_bfc_allocator.cc:39] Overriding allow_growth setting because the TF_FORCE_GPU_ALLOW_GROWTH environment variable is set. Original config value was 0.\n",
            "2020-05-08 22:09:32.678802: I tensorflow/core/common_runtime/gpu/gpu_device.cc:1325] Created TensorFlow device (/job:localhost/replica:0/task:0/device:GPU:0 with 10748 MB memory) -> physical GPU (device: 0, name: Tesla K80, pci bus id: 0000:00:04.0, compute capability: 3.7)\n",
            "loading training posts\n",
            "loading tokenizer\n",
            "found 966881 words; generator ready\n",
            "WARNING:tensorflow:From /usr/local/lib/python3.6/dist-packages/keras/backend/tensorflow_backend.py:321: The name tf.placeholder is deprecated. Please use tf.compat.v1.placeholder instead.\n",
            "\n",
            "WARNING - tensorflow - From /usr/local/lib/python3.6/dist-packages/keras/backend/tensorflow_backend.py:321: The name tf.placeholder is deprecated. Please use tf.compat.v1.placeholder instead.\n",
            "\n",
            "WARNING:tensorflow:From /usr/local/lib/python3.6/dist-packages/keras/backend/tensorflow_backend.py:634: calling RandomUniform.__init__ (from tensorflow.python.ops.init_ops) with dtype is deprecated and will be removed in a future version.\n",
            "Instructions for updating:\n",
            "Call initializer instance with the dtype argument instead of passing it to the constructor\n",
            "WARNING - tensorflow - From /usr/local/lib/python3.6/dist-packages/keras/backend/tensorflow_backend.py:634: calling RandomUniform.__init__ (from tensorflow.python.ops.init_ops) with dtype is deprecated and will be removed in a future version.\n",
            "Instructions for updating:\n",
            "Call initializer instance with the dtype argument instead of passing it to the constructor\n",
            "WARNING:tensorflow:From /usr/local/lib/python3.6/dist-packages/keras/backend/tensorflow_backend.py:491: calling Constant.__init__ (from tensorflow.python.ops.init_ops) with dtype is deprecated and will be removed in a future version.\n",
            "Instructions for updating:\n",
            "Call initializer instance with the dtype argument instead of passing it to the constructor\n",
            "WARNING - tensorflow - From /usr/local/lib/python3.6/dist-packages/keras/backend/tensorflow_backend.py:491: calling Constant.__init__ (from tensorflow.python.ops.init_ops) with dtype is deprecated and will be removed in a future version.\n",
            "Instructions for updating:\n",
            "Call initializer instance with the dtype argument instead of passing it to the constructor\n",
            "WARNING:tensorflow:From /usr/local/lib/python3.6/dist-packages/keras/backend/tensorflow_backend.py:1029: calling reduce_sum_v1 (from tensorflow.python.ops.math_ops) with keep_dims is deprecated and will be removed in a future version.\n",
            "Instructions for updating:\n",
            "keep_dims is deprecated, use keepdims instead\n",
            "WARNING - tensorflow - From /usr/local/lib/python3.6/dist-packages/keras/backend/tensorflow_backend.py:1029: calling reduce_sum_v1 (from tensorflow.python.ops.math_ops) with keep_dims is deprecated and will be removed in a future version.\n",
            "Instructions for updating:\n",
            "keep_dims is deprecated, use keepdims instead\n",
            "WARNING:tensorflow:From /usr/local/lib/python3.6/dist-packages/keras/backend/tensorflow_backend.py:1047: calling reduce_prod_v1 (from tensorflow.python.ops.math_ops) with keep_dims is deprecated and will be removed in a future version.\n",
            "Instructions for updating:\n",
            "keep_dims is deprecated, use keepdims instead\n",
            "WARNING - tensorflow - From /usr/local/lib/python3.6/dist-packages/keras/backend/tensorflow_backend.py:1047: calling reduce_prod_v1 (from tensorflow.python.ops.math_ops) with keep_dims is deprecated and will be removed in a future version.\n",
            "Instructions for updating:\n",
            "keep_dims is deprecated, use keepdims instead\n",
            "WARNING:tensorflow:From /usr/local/lib/python3.6/dist-packages/keras/backend/tensorflow_backend.py:2516: calling dropout (from tensorflow.python.ops.nn_ops) with keep_prob is deprecated and will be removed in a future version.\n",
            "Instructions for updating:\n",
            "Please use `rate` instead of `keep_prob`. Rate should be set to `rate = 1 - keep_prob`.\n",
            "WARNING - tensorflow - From /usr/local/lib/python3.6/dist-packages/keras/backend/tensorflow_backend.py:2516: calling dropout (from tensorflow.python.ops.nn_ops) with keep_prob is deprecated and will be removed in a future version.\n",
            "Instructions for updating:\n",
            "Please use `rate` instead of `keep_prob`. Rate should be set to `rate = 1 - keep_prob`.\n",
            "WARNING:tensorflow:From /usr/local/lib/python3.6/dist-packages/keras/optimizers.py:658: The name tf.train.Optimizer is deprecated. Please use tf.compat.v1.train.Optimizer instead.\n",
            "\n",
            "WARNING - tensorflow - From /usr/local/lib/python3.6/dist-packages/keras/optimizers.py:658: The name tf.train.Optimizer is deprecated. Please use tf.compat.v1.train.Optimizer instead.\n",
            "\n",
            "WARNING:tensorflow:From /usr/local/lib/python3.6/dist-packages/keras/backend/tensorflow_backend.py:2389: The name tf.log is deprecated. Please use tf.math.log instead.\n",
            "\n",
            "WARNING - tensorflow - From /usr/local/lib/python3.6/dist-packages/keras/backend/tensorflow_backend.py:2389: The name tf.log is deprecated. Please use tf.math.log instead.\n",
            "\n",
            "____________________________________________________________________________________________________\n",
            "Layer (type)                     Output Shape          Param #     Connected to                     \n",
            "====================================================================================================\n",
            "input_1 (InputLayer)             (None, 400, 100)      0                                            \n",
            "____________________________________________________________________________________________________\n",
            "timedistributed_1 (TimeDistribut (None, 400, 100, 50)  48344050    input_1[0][0]                    \n",
            "____________________________________________________________________________________________________\n",
            "timedistributed_2 (TimeDistribut (None, 400, 25)       7600        timedistributed_1[0][0]          \n",
            "____________________________________________________________________________________________________\n",
            "convolution1d_1 (Convolution1D)  (None, 26, 25)        9400        timedistributed_2[0][0]          \n",
            "____________________________________________________________________________________________________\n",
            "flatten_1 (Flatten)              (None, 650)           0           convolution1d_1[0][0]            \n",
            "____________________________________________________________________________________________________\n",
            "dense_1 (Dense)                  (None, 128)           83328       flatten_1[0][0]                  \n",
            "____________________________________________________________________________________________________\n",
            "dropout_1 (Dropout)              (None, 128)           0           dense_1[0][0]                    \n",
            "____________________________________________________________________________________________________\n",
            "dense_2 (Dense)                  (None, 64)            8256        dropout_1[0][0]                  \n",
            "____________________________________________________________________________________________________\n",
            "dropout_2 (Dropout)              (None, 64)            0           dense_2[0][0]                    \n",
            "____________________________________________________________________________________________________\n",
            "dense_3 (Dense)                  (None, 2)             130         dropout_2[0][0]                  \n",
            "====================================================================================================\n",
            "Total params: 48,452,764\n",
            "Trainable params: 48,452,764\n",
            "Non-trainable params: 0\n",
            "____________________________________________________________________________________________________\n",
            "None\n",
            "loading validation posts\n",
            "loading tokenizer\n",
            "found 966881 words; generator ready\n",
            "tcmalloc: large alloc 1577926656 bytes == 0x7f66285c4000 @  0x7f69a663b1e7 0x7f69a387d5e1 0x7f69a38e1c78 0x7f69a38e4db8 0x7f69a38e5395 0x7f69a397c65d 0x50a635 0x50bfb4 0x58e619 0x4b5cbf 0x50c227 0x508e55 0x594931 0x549e5f 0x5513d1 0x5a9cbc 0x50a5c3 0x50bfb4 0x507d64 0x588e5c 0x59fc4e 0x50d356 0x508e55 0x5a4b71 0x5a4ec8 0x7f69587a629b 0x59fc4e 0x50d356 0x507d64 0x509042 0x594931\n",
            "WARNING:tensorflow:From /tensorflow-1.15.2/python3.6/tensorflow_core/python/ops/math_grad.py:1424: where (from tensorflow.python.ops.array_ops) is deprecated and will be removed in a future version.\n",
            "Instructions for updating:\n",
            "Use tf.where in 2.0, which has the same broadcast rule as np.where\n",
            "WARNING - tensorflow - From /tensorflow-1.15.2/python3.6/tensorflow_core/python/ops/math_grad.py:1424: where (from tensorflow.python.ops.array_ops) is deprecated and will be removed in a future version.\n",
            "Instructions for updating:\n",
            "Use tf.where in 2.0, which has the same broadcast rule as np.where\n",
            "WARNING:tensorflow:From /usr/local/lib/python3.6/dist-packages/keras/backend/tensorflow_backend.py:740: The name tf.assign_add is deprecated. Please use tf.compat.v1.assign_add instead.\n",
            "\n",
            "WARNING - tensorflow - From /usr/local/lib/python3.6/dist-packages/keras/backend/tensorflow_backend.py:740: The name tf.assign_add is deprecated. Please use tf.compat.v1.assign_add instead.\n",
            "\n",
            "WARNING:tensorflow:From /usr/local/lib/python3.6/dist-packages/keras/backend/tensorflow_backend.py:736: The name tf.assign is deprecated. Please use tf.compat.v1.assign instead.\n",
            "\n",
            "WARNING - tensorflow - From /usr/local/lib/python3.6/dist-packages/keras/backend/tensorflow_backend.py:736: The name tf.assign is deprecated. Please use tf.compat.v1.assign instead.\n",
            "\n",
            "Epoch 1/25\n",
            "[(1, 20000), (0, 20000)]\n",
            "WARNING:tensorflow:From /usr/local/lib/python3.6/dist-packages/keras/backend/tensorflow_backend.py:112: The name tf.get_default_session is deprecated. Please use tf.compat.v1.get_default_session instead.\n",
            "\n",
            "WARNING - tensorflow - From /usr/local/lib/python3.6/dist-packages/keras/backend/tensorflow_backend.py:112: The name tf.get_default_session is deprecated. Please use tf.compat.v1.get_default_session instead.\n",
            "\n",
            "WARNING:tensorflow:From /usr/local/lib/python3.6/dist-packages/keras/backend/tensorflow_backend.py:269: The name tf.global_variables is deprecated. Please use tf.compat.v1.global_variables instead.\n",
            "\n",
            "WARNING - tensorflow - From /usr/local/lib/python3.6/dist-packages/keras/backend/tensorflow_backend.py:269: The name tf.global_variables is deprecated. Please use tf.compat.v1.global_variables instead.\n",
            "\n",
            "WARNING:tensorflow:From /usr/local/lib/python3.6/dist-packages/keras/backend/tensorflow_backend.py:281: The name tf.variables_initializer is deprecated. Please use tf.compat.v1.variables_initializer instead.\n",
            "\n",
            "WARNING - tensorflow - From /usr/local/lib/python3.6/dist-packages/keras/backend/tensorflow_backend.py:281: The name tf.variables_initializer is deprecated. Please use tf.compat.v1.variables_initializer instead.\n",
            "\n",
            "2020-05-08 22:18:29.745042: W tensorflow/core/framework/cpu_allocator_impl.cc:81] Allocation of 193376200 exceeds 10% of system memory.\n",
            "2020-05-08 22:18:29.792983: W tensorflow/core/framework/cpu_allocator_impl.cc:81] Allocation of 193376200 exceeds 10% of system memory.\n",
            "2020-05-08 22:18:29.842120: W tensorflow/core/framework/cpu_allocator_impl.cc:81] Allocation of 193376200 exceeds 10% of system memory.\n",
            "2020-05-08 22:18:29.887716: W tensorflow/core/framework/cpu_allocator_impl.cc:81] Allocation of 193376200 exceeds 10% of system memory.\n",
            "2020-05-08 22:18:31.816951: W tensorflow/core/framework/cpu_allocator_impl.cc:81] Allocation of 193376200 exceeds 10% of system memory.\n",
            "2020-05-08 22:18:38.781651: I tensorflow/stream_executor/platform/default/dso_loader.cc:44] Successfully opened dynamic library libcublas.so.10\n",
            "2020-05-08 22:18:40.687075: I tensorflow/stream_executor/platform/default/dso_loader.cc:44] Successfully opened dynamic library libcudnn.so.7\n",
            "3008/3072 [============================>.] - ETA: 1s - loss: 0.6256\n",
            "-------- validation -------\n",
            "2020-05-08 22:19:36.229879 predicting\n",
            "2020-05-08 22:20:33.391343\n",
            "              precision    recall  f1-score   support\n",
            "\n",
            "           0       0.96      0.83      0.89      9067\n",
            "           1       0.23      0.59      0.33       795\n",
            "\n",
            "    accuracy                           0.81      9862\n",
            "   macro avg       0.59      0.71      0.61      9862\n",
            "weighted avg       0.90      0.81      0.84      9862\n",
            "\n",
            "pred Counter({0: 7815, 1: 2047})\n",
            "true Counter({0: 9067, 1: 795})\n",
            "epoch 0\n",
            "3072/3072 [==============================] - 124s - loss: 0.6253   \n",
            "Epoch 2/25\n",
            "3008/3072 [============================>.] - ETA: 1s - loss: 0.5228\n",
            "-------- validation -------\n",
            "2020-05-08 22:21:24.548053 predicting\n",
            "2020-05-08 22:22:21.534902\n",
            "              precision    recall  f1-score   support\n",
            "\n",
            "           0       0.97      0.82      0.89      9067\n",
            "           1       0.26      0.72      0.39       795\n",
            "\n",
            "    accuracy                           0.82      9862\n",
            "   macro avg       0.62      0.77      0.64      9862\n",
            "weighted avg       0.91      0.82      0.85      9862\n",
            "\n",
            "pred Counter({0: 7696, 1: 2166})\n",
            "true Counter({0: 9067, 1: 795})\n",
            "epoch 1\n",
            "3072/3072 [==============================] - 108s - loss: 0.5217   \n",
            "Epoch 3/25\n",
            "3008/3072 [============================>.] - ETA: 1s - loss: 0.4663\n",
            "-------- validation -------\n",
            "2020-05-08 22:23:13.149789 predicting\n",
            "2020-05-08 22:24:10.188641\n",
            "              precision    recall  f1-score   support\n",
            "\n",
            "           0       0.97      0.80      0.88      9067\n",
            "           1       0.26      0.76      0.38       795\n",
            "\n",
            "    accuracy                           0.80      9862\n",
            "   macro avg       0.62      0.78      0.63      9862\n",
            "weighted avg       0.92      0.80      0.84      9862\n",
            "\n",
            "pred Counter({0: 7485, 1: 2377})\n",
            "true Counter({0: 9067, 1: 795})\n",
            "epoch 2\n",
            "3072/3072 [==============================] - 108s - loss: 0.4648   \n",
            "Epoch 4/25\n",
            "3008/3072 [============================>.] - ETA: 1s - loss: 0.4142\n",
            "-------- validation -------\n",
            "2020-05-08 22:25:01.399752 predicting\n",
            "2020-05-08 22:25:58.379706\n",
            "              precision    recall  f1-score   support\n",
            "\n",
            "           0       0.98      0.79      0.88      9067\n",
            "           1       0.25      0.80      0.38       795\n",
            "\n",
            "    accuracy                           0.79      9862\n",
            "   macro avg       0.61      0.79      0.63      9862\n",
            "weighted avg       0.92      0.79      0.84      9862\n",
            "\n",
            "pred Counter({0: 7344, 1: 2518})\n",
            "true Counter({0: 9067, 1: 795})\n",
            "epoch 3\n",
            "3072/3072 [==============================] - 108s - loss: 0.4148   \n",
            "Epoch 5/25\n",
            "3008/3072 [============================>.] - ETA: 1s - loss: 0.3991\n",
            "-------- validation -------\n",
            "2020-05-08 22:26:49.573640 predicting\n",
            "2020-05-08 22:27:46.576385\n",
            "              precision    recall  f1-score   support\n",
            "\n",
            "           0       0.97      0.85      0.91      9067\n",
            "           1       0.31      0.75      0.44       795\n",
            "\n",
            "    accuracy                           0.84      9862\n",
            "   macro avg       0.64      0.80      0.67      9862\n",
            "weighted avg       0.92      0.84      0.87      9862\n",
            "\n",
            "pred Counter({0: 7915, 1: 1947})\n",
            "true Counter({0: 9067, 1: 795})\n",
            "epoch 4\n",
            "3072/3072 [==============================] - 108s - loss: 0.3989   \n",
            "Epoch 6/25\n",
            "3008/3072 [============================>.] - ETA: 1s - loss: 0.3430\n",
            "-------- validation -------\n",
            "2020-05-08 22:28:37.972897 predicting\n",
            "2020-05-08 22:29:35.019136\n",
            "              precision    recall  f1-score   support\n",
            "\n",
            "           0       0.97      0.87      0.92      9067\n",
            "           1       0.33      0.72      0.45       795\n",
            "\n",
            "    accuracy                           0.86      9862\n",
            "   macro avg       0.65      0.80      0.69      9862\n",
            "weighted avg       0.92      0.86      0.88      9862\n",
            "\n",
            "pred Counter({0: 8118, 1: 1744})\n",
            "true Counter({0: 9067, 1: 795})\n",
            "epoch 5\n",
            "3072/3072 [==============================] - 108s - loss: 0.3448   \n",
            "Epoch 7/25\n",
            "3008/3072 [============================>.] - ETA: 1s - loss: 0.2854\n",
            "-------- validation -------\n",
            "2020-05-08 22:30:26.418018 predicting\n",
            "2020-05-08 22:31:23.290231\n",
            "              precision    recall  f1-score   support\n",
            "\n",
            "           0       0.97      0.87      0.92      9067\n",
            "           1       0.32      0.72      0.44       795\n",
            "\n",
            "    accuracy                           0.85      9862\n",
            "   macro avg       0.65      0.79      0.68      9862\n",
            "weighted avg       0.92      0.85      0.88      9862\n",
            "\n",
            "pred Counter({0: 8089, 1: 1773})\n",
            "true Counter({0: 9067, 1: 795})\n",
            "epoch 6\n",
            "3072/3072 [==============================] - 108s - loss: 0.2852   \n",
            "Epoch 8/25\n",
            "1216/3072 [==========>...................] - ETA: 30s - loss: 0.2435"
          ],
          "name": "stdout"
        }
      ]
    },
    {
      "cell_type": "code",
      "metadata": {
        "id": "ZAUdb9LD5dVR",
        "colab_type": "code",
        "colab": {}
      },
      "source": [
        "# Backup run data\n",
        "# ! cp -r tmp '/gdrive/My Drive/MentalHealthData/runs/{branch}/'\n"
      ],
      "execution_count": 0,
      "outputs": []
    },
    {
      "cell_type": "code",
      "metadata": {
        "id": "hTH5sj9EXN54",
        "colab_type": "code",
        "colab": {}
      },
      "source": [
        "## Set path for weights from highest f1-precision-recall epoch\n",
        "best_w = \"tmp/w/acl:15.af:relu.batch:64.cosine:False.densed:50.embed_size:50.epochs:25.etrain:True.filters:25.filtlen:3.lr:0.001.max_length:100.max_posts:400.mindf:2.mintf:3.noempty:False.poollen:25.prep:None.ptype:acnn.randposts:False.seed:123456.w2v:False_1588969571/13-0.53_0.47_0.60\""
      ],
      "execution_count": 0,
      "outputs": []
    },
    {
      "cell_type": "markdown",
      "metadata": {
        "id": "mz4lHnMvpus8",
        "colab_type": "text"
      },
      "source": [
        "## Test Results"
      ]
    },
    {
      "cell_type": "code",
      "metadata": {
        "id": "fDzX28WLXgea",
        "colab_type": "code",
        "outputId": "939be992-90bd-4a9c-8331-f1eae700644b",
        "colab": {
          "base_uri": "https://localhost:8080/",
          "height": 1000
        }
      },
      "source": [
        "%matplotlib inline\n",
        "% run test.py \"{best_w}\""
      ],
      "execution_count": 71,
      "outputs": [
        {
          "output_type": "stream",
          "text": [
            "loading training posts\n",
            "loading tokenizer\n",
            "found 966881 words; generator ready\n",
            "____________________________________________________________________________________________________\n",
            "Layer (type)                     Output Shape          Param #     Connected to                     \n",
            "====================================================================================================\n",
            "input_7 (InputLayer)             (None, 400, 100)      0                                            \n",
            "____________________________________________________________________________________________________\n",
            "timedistributed_13 (TimeDistribu (None, 400, 100, 50)  48344050    input_7[0][0]                    \n",
            "____________________________________________________________________________________________________\n",
            "timedistributed_14 (TimeDistribu (None, 400, 25)       3775        timedistributed_13[0][0]         \n",
            "____________________________________________________________________________________________________\n",
            "convolution1d_13 (Convolution1D) (None, 26, 25)        9400        timedistributed_14[0][0]         \n",
            "____________________________________________________________________________________________________\n",
            "flatten_6 (Flatten)              (None, 650)           0           convolution1d_13[0][0]           \n",
            "____________________________________________________________________________________________________\n",
            "dense_14 (Dense)                 (None, 256)           166656      flatten_6[0][0]                  \n",
            "____________________________________________________________________________________________________\n",
            "dense_15 (Dense)                 (None, 128)           32896       dense_14[0][0]                   \n",
            "____________________________________________________________________________________________________\n",
            "dense_16 (Dense)                 (None, 64)            8256        dense_15[0][0]                   \n",
            "____________________________________________________________________________________________________\n",
            "dense_17 (Dense)                 (None, 2)             130         dense_16[0][0]                   \n",
            "====================================================================================================\n",
            "Total params: 48,565,163\n",
            "Trainable params: 48,565,163\n",
            "Non-trainable params: 0\n",
            "____________________________________________________________________________________________________\n",
            "None\n",
            "loading testing posts\n",
            "loading tokenizer\n",
            "found 966881 words; generator ready\n",
            "(0.5164265129682997, 0.4630490956072351, 0.5837133550488599)\n",
            "              precision    recall  f1-score   support\n",
            "\n",
            "           0       0.96      0.94      0.95     35775\n",
            "           1       0.46      0.58      0.52      3070\n",
            "\n",
            "    accuracy                           0.91     38845\n",
            "   macro avg       0.71      0.76      0.73     38845\n",
            "weighted avg       0.92      0.91      0.92     38845\n",
            "\n"
          ],
          "name": "stdout"
        },
        {
          "output_type": "display_data",
          "data": {
            "image/png": "[encoded data removed]",
            "text/plain": [
              "<Figure size 432x288 with 1 Axes>"
            ]
          },
          "metadata": {
            "tags": [],
            "needs_background": "light"
          }
        }
      ]
    },
    {
      "cell_type": "code",
      "metadata": {
        "id": "cnB0o5Ow22G5",
        "colab_type": "code",
        "colab": {}
      },
      "source": [
        ""
      ],
      "execution_count": 0,
      "outputs": []
    }
  ]
}